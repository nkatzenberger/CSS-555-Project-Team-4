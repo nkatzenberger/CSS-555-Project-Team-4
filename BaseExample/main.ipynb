{
 "cells": [
  {
   "cell_type": "markdown",
   "id": "36025c09-2da3-4839-8cef-f572d187b7b4",
   "metadata": {},
   "source": [
    "# 1. Brain Source Localization with ConvDip"
   ]
  },
  {
   "cell_type": "code",
   "execution_count": 1,
   "id": "7420bf1a-efa8-4c24-8ad4-e8ca759fabb3",
   "metadata": {},
   "outputs": [],
   "source": [
    "%run functions.ipynb"
   ]
  },
  {
   "cell_type": "code",
   "execution_count": 2,
   "id": "357c69a8-2553-4cf8-9f91-a63437d4aeaa",
   "metadata": {},
   "outputs": [
    {
     "name": "stdout",
     "output_type": "stream",
     "text": [
      "processing task: LA\n",
      "(59, 3)\n",
      "result saved in: ./result//sample/Test_result_evoked_LA.mat\n",
      "processing task: LV\n",
      "(59, 3)\n",
      "result saved in: ./result//sample/Test_result_evoked_LV.mat\n"
     ]
    }
   ],
   "source": [
    "\"\"\"\n",
    "The subject underwent four tasks, and corresponding EEG data were collected.\n",
    "task list: ['LA','LV','RA','RV']\n",
    "\"\"\"\n",
    "# you can choose single or multiple task ids from task list ['LA','LV','RA','RV']\n",
    "tasks = ['LA', 'LV'] # or 'LA' or ['LA'], etc.\n",
    "# set your result path\n",
    "result_path = './result/'\n",
    "ConvDip_ESI(tasks, result_path)"
   ]
  },
  {
   "cell_type": "code",
   "execution_count": 3,
   "id": "417f0ce4-63f6-43d7-a5e0-45b0fcde8611",
   "metadata": {},
   "outputs": [
    {
     "name": "stdout",
     "output_type": "stream",
     "text": [
      "load result for task: LA\n",
      "(1984, 241)\n"
     ]
    }
   ],
   "source": [
    "# choose only ONE task from ['LA','LV','RA','RV']\n",
    "task = 'LA' \n",
    "s_pred = load_result(task, result_path)\n",
    "print(s_pred.shape) # s_pred: estimated sources at different timepoints"
   ]
  },
  {
   "cell_type": "markdown",
   "id": "cc6838b1-be32-4b25-b9fc-b67bb05ad767",
   "metadata": {},
   "source": [
    "# 2. 3D Visualization"
   ]
  },
  {
   "cell_type": "code",
   "execution_count": 4,
   "id": "10453c03-395e-4c1f-a004-e1cbd19f9001",
   "metadata": {},
   "outputs": [],
   "source": [
    "%run brain.ipynb"
   ]
  },
  {
   "cell_type": "code",
   "execution_count": 5,
   "id": "695efb0b-c329-4e8c-8af9-0e06cd227f06",
   "metadata": {},
   "outputs": [
    {
     "name": "stdout",
     "output_type": "stream",
     "text": [
      "Opening raw data file C:\\Users\\njkat\\mne_data\\MNE-sample-data\\MEG\\sample\\sample_audvis_filt-0-40_raw.fif...\n",
      "    Read a total of 4 projection items:\n",
      "        PCA-v1 (1 x 102)  idle\n",
      "        PCA-v2 (1 x 102)  idle\n",
      "        PCA-v3 (1 x 102)  idle\n",
      "        Average EEG reference (1 x 60)  idle\n",
      "    Range : 6450 ... 48149 =     42.956 ...   320.665 secs\n",
      "Ready.\n",
      "319 events found on stim channel STI 014\n",
      "Event IDs: [ 1  2  3  4  5 32]\n",
      "Removing projector <Projection | Average EEG reference, active : False, n_channels : 60>\n",
      "Not setting metadata\n",
      "72 matching events found\n",
      "Setting baseline interval to [-0.19979521315838786, 0.0] s\n",
      "Applying baseline correction (mode: mean)\n",
      "Created an SSP operator (subspace dimension = 3)\n",
      "Loading data for 72 events and 106 original time points ...\n",
      "    Rejecting  epoch based on EOG : ['EOG 061']\n",
      "    Rejecting  epoch based on EOG : ['EOG 061']\n",
      "    Rejecting  epoch based on EOG : ['EOG 061']\n",
      "    Rejecting  epoch based on EOG : ['EOG 061']\n",
      "    Rejecting  epoch based on EOG : ['EOG 061']\n",
      "    Rejecting  epoch based on MAG : ['MEG 1711']\n",
      "    Rejecting  epoch based on EOG : ['EOG 061']\n",
      "    Rejecting  epoch based on EOG : ['EOG 061']\n",
      "    Rejecting  epoch based on EOG : ['EOG 061']\n",
      "    Rejecting  epoch based on EOG : ['EOG 061']\n",
      "    Rejecting  epoch based on EOG : ['EOG 061']\n",
      "    Rejecting  epoch based on EOG : ['EOG 061']\n",
      "    Rejecting  epoch based on EOG : ['EOG 061']\n",
      "    Rejecting  epoch based on EOG : ['EOG 061']\n",
      "    Rejecting  epoch based on EOG : ['EOG 061']\n",
      "    Rejecting  epoch based on EOG : ['EOG 061']\n",
      "    Rejecting  epoch based on EOG : ['EOG 061']\n",
      "17 bad epochs dropped\n",
      "Computing rank from data with rank=None\n",
      "    Using tolerance 4.1e-09 (2.2e-16 eps * 305 dim * 6.1e+04  max singular value)\n",
      "    Estimated rank (mag + grad): 302\n",
      "    MEG: rank 302 computed from 305 data channels with 3 projectors\n",
      "    Created an SSP operator (subspace dimension = 3)\n",
      "    Setting small MEG eigenvalues to zero (without PCA)\n",
      "Reducing data rank from 305 -> 302\n",
      "Estimating covariance using EMPIRICAL\n",
      "Done.\n",
      "Number of samples used : 2035\n",
      "[done]\n",
      "Computing rank from data with rank=None\n",
      "    Using tolerance 2.8e-09 (2.2e-16 eps * 305 dim * 4.2e+04  max singular value)\n",
      "    Estimated rank (mag + grad): 302\n",
      "    MEG: rank 302 computed from 305 data channels with 3 projectors\n",
      "    Created an SSP operator (subspace dimension = 3)\n",
      "    Setting small MEG eigenvalues to zero (without PCA)\n",
      "Reducing data rank from 305 -> 302\n",
      "Estimating covariance using EMPIRICAL\n",
      "Done.\n",
      "Number of samples used : 1705\n",
      "[done]\n",
      "Reading forward solution from C:\\Users\\njkat\\Downloads\\ESI_project 2\\ESI_project 2\\data\\meg-fwd.fif...\n",
      "    Reading a source space...\n",
      "    Computing patch statistics...\n",
      "    Patch information added...\n",
      "    [done]\n",
      "    Reading a source space...\n",
      "    Computing patch statistics...\n",
      "    Patch information added...\n",
      "    [done]\n",
      "    2 source spaces read\n",
      "    Desired named matrix (kind = 3523) not available\n",
      "    Read MEG forward solution (1984 sources, 102 channels, free orientations)\n",
      "    Source spaces transformed to the forward solution coordinate frame\n",
      "Computing rank from covariance with rank=None\n",
      "    Using tolerance 4e-14 (2.2e-16 eps * 102 dim * 1.8  max singular value)\n",
      "    Estimated rank (mag): 99\n",
      "    MAG: rank 99 computed from 102 data channels with 3 projectors\n",
      "Computing rank from covariance with rank=None\n",
      "    Using tolerance 2.3e-14 (2.2e-16 eps * 102 dim * 1  max singular value)\n",
      "    Estimated rank (mag): 99\n",
      "    MAG: rank 99 computed from 102 data channels with 3 projectors\n",
      "Making LCMV beamformer with rank {'mag': 99}\n",
      "Computing inverse operator with 102 channels.\n",
      "    102 out of 102 channels remain after picking\n",
      "Selected 102 channels\n",
      "Whitening the forward solution.\n",
      "    Created an SSP operator (subspace dimension = 3)\n",
      "Computing rank from covariance with rank={'mag': 99}\n",
      "    Setting small MAG eigenvalues to zero (without PCA)\n",
      "Creating the source covariance matrix\n",
      "Adjusting source covariance matrix.\n",
      "Computing beamformer filters for 1984 sources\n",
      "Filter computation complete\n",
      "Computing rank from covariance with rank=None\n",
      "    Using tolerance 4e-14 (2.2e-16 eps * 102 dim * 1.8  max singular value)\n",
      "    Estimated rank (mag): 99\n",
      "    MAG: rank 99 computed from 102 data channels with 3 projectors\n",
      "Computing rank from covariance with rank=None\n",
      "    Using tolerance 2.3e-14 (2.2e-16 eps * 102 dim * 1  max singular value)\n",
      "    Estimated rank (mag): 99\n",
      "    MAG: rank 99 computed from 102 data channels with 3 projectors\n",
      "Making LCMV beamformer with rank {'mag': 99}\n",
      "Computing inverse operator with 102 channels.\n",
      "    102 out of 102 channels remain after picking\n",
      "Selected 102 channels\n",
      "Whitening the forward solution.\n",
      "    Created an SSP operator (subspace dimension = 3)\n",
      "Computing rank from covariance with rank={'mag': 99}\n",
      "    Setting small MAG eigenvalues to zero (without PCA)\n",
      "Creating the source covariance matrix\n",
      "Adjusting source covariance matrix.\n",
      "Computing beamformer filters for 1984 sources\n",
      "Filter computation complete\n",
      "<SourceEstimate | 1984 vertices, subject : sample, tmin : 53.27872350890343 (ms), tmax : 153.1763300880974 (ms), tstep : 6.659840438612929 (ms), data shape : (1984, 16), ~264 kB>\n",
      "Using pyvistaqt 3d backend.\n",
      "\n",
      "Using control points [0.04148847 0.04522558 0.06564752]\n"
     ]
    }
   ],
   "source": [
    "\"\"\"\n",
    "hemi: Hemisphere id (ie ‘lh’, ‘rh’, ‘both’, or ‘split’). \n",
    "In the case of ‘lh’, only left hemisphere is shown in the window. \n",
    "In the case of ‘rh’, only right hemispheres is shown in the window. \n",
    "In the case of ‘both’, both hemispheres are shown in the same window. \n",
    "In the case of ‘split’ hemispheres are displayed side-by-side in different viewing panes.\n",
    "\"\"\"\n",
    "\n",
    "hemi='split' # choose from ['lh', 'rh', 'split', 'both']\n",
    "brain3d(s_pred, hemi)\n"
   ]
  },
  {
   "cell_type": "code",
   "execution_count": null,
   "id": "a4d04f4c-e3ff-49c7-bb34-fe6105612795",
   "metadata": {},
   "outputs": [],
   "source": []
  }
 ],
 "metadata": {
  "kernelspec": {
   "display_name": "Python 3 (ipykernel)",
   "language": "python",
   "name": "python3"
  },
  "language_info": {
   "codemirror_mode": {
    "name": "ipython",
    "version": 3
   },
   "file_extension": ".py",
   "mimetype": "text/x-python",
   "name": "python",
   "nbconvert_exporter": "python",
   "pygments_lexer": "ipython3",
   "version": "3.9.18"
  }
 },
 "nbformat": 4,
 "nbformat_minor": 5
}
